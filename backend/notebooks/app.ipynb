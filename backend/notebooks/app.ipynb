{
 "cells": [
  {
   "cell_type": "code",
   "execution_count": null,
   "id": "add36cc9",
   "metadata": {},
   "outputs": [],
   "source": [
    "import pandas as pd\n",
    "import numpy as np\n",
    "import tensorflow as tf\n",
    "import keras\n",
    "from keras.utils import image_dataset_from_directory"
   ]
  },
  {
   "cell_type": "code",
   "execution_count": 55,
   "id": "b0ddb2e5",
   "metadata": {},
   "outputs": [
    {
     "name": "stdout",
     "output_type": "stream",
     "text": [
      "Found 8017 files belonging to 2 classes.\n",
      "Using 5612 files for training.\n"
     ]
    },
    {
     "data": {
      "text/plain": [
       "<_PrefetchDataset element_spec=(TensorSpec(shape=(None, 250, 250, 3), dtype=tf.float32, name=None), TensorSpec(shape=(None,), dtype=tf.int32, name=None))>"
      ]
     },
     "execution_count": 55,
     "metadata": {},
     "output_type": "execute_result"
    }
   ],
   "source": [
    "train_ds = image_dataset_from_directory(\n",
    "    \"../data/human-and-non-human/training_set/training_set\",\n",
    "    validation_split=0.3,\n",
    "    subset=\"training\",\n",
    "    seed=123,\n",
    "    image_size=(250,250),\n",
    "    batch_size=32,\n",
    "    labels=\"inferred\",\n",
    ")\n",
    "train_ds"
   ]
  },
  {
   "cell_type": "code",
   "execution_count": 54,
   "id": "c3320708",
   "metadata": {},
   "outputs": [
    {
     "name": "stdout",
     "output_type": "stream",
     "text": [
      "Found 8017 files belonging to 2 classes.\n",
      "Using 2405 files for validation.\n"
     ]
    },
    {
     "data": {
      "text/plain": [
       "<_PrefetchDataset element_spec=(TensorSpec(shape=(None, 250, 250, 3), dtype=tf.float32, name=None), TensorSpec(shape=(None,), dtype=tf.int32, name=None))>"
      ]
     },
     "execution_count": 54,
     "metadata": {},
     "output_type": "execute_result"
    }
   ],
   "source": [
    "val_ds = image_dataset_from_directory(\n",
    " \"../data/human-and-non-human/training_set/training_set\",\n",
    "  validation_split=0.3,\n",
    "  subset=\"validation\",\n",
    "  seed=123,\n",
    "  image_size=(250,250),\n",
    "  batch_size=32,\n",
    "  labels=\"inferred\",\n",
    ")\n",
    "val_ds"
   ]
  },
  {
   "cell_type": "code",
   "execution_count": 9,
   "id": "5403130e",
   "metadata": {},
   "outputs": [],
   "source": [
    "from keras import Sequential\n",
    "from keras import layers\n",
    "from keras.layers import Rescaling"
   ]
  },
  {
   "cell_type": "code",
   "execution_count": 56,
   "id": "9dc059bf",
   "metadata": {},
   "outputs": [
    {
     "name": "stderr",
     "output_type": "stream",
     "text": [
      "C:\\Users\\HP\\AppData\\Local\\Temp\\ipykernel_13808\\540324685.py:4: UserWarning: `input_shape` is undefined or non-square, or `rows` is not in [96, 128, 160, 192, 224]. Weights for input shape (224, 224) will be loaded as the default.\n",
      "  base_model = keras.applications.MobileNetV2(weights='imagenet', include_top=False, input_shape=(250, 250, 3))\n"
     ]
    },
    {
     "name": "stdout",
     "output_type": "stream",
     "text": [
      "Epoch 1/5\n",
      "\u001b[1m176/176\u001b[0m \u001b[32m━━━━━━━━━━━━━━━━━━━━\u001b[0m\u001b[37m\u001b[0m \u001b[1m134s\u001b[0m 741ms/step - accuracy: 0.8858 - loss: 0.2568 - val_accuracy: 0.9609 - val_loss: 0.1045\n",
      "Epoch 2/5\n",
      "\u001b[1m176/176\u001b[0m \u001b[32m━━━━━━━━━━━━━━━━━━━━\u001b[0m\u001b[37m\u001b[0m \u001b[1m137s\u001b[0m 782ms/step - accuracy: 0.9701 - loss: 0.0805 - val_accuracy: 0.9696 - val_loss: 0.0745\n",
      "Epoch 3/5\n",
      "\u001b[1m176/176\u001b[0m \u001b[32m━━━━━━━━━━━━━━━━━━━━\u001b[0m\u001b[37m\u001b[0m \u001b[1m146s\u001b[0m 830ms/step - accuracy: 0.9844 - loss: 0.0482 - val_accuracy: 0.9613 - val_loss: 0.0927\n",
      "Epoch 4/5\n",
      "\u001b[1m176/176\u001b[0m \u001b[32m━━━━━━━━━━━━━━━━━━━━\u001b[0m\u001b[37m\u001b[0m \u001b[1m119s\u001b[0m 676ms/step - accuracy: 0.9880 - loss: 0.0369 - val_accuracy: 0.9742 - val_loss: 0.0671\n",
      "Epoch 5/5\n",
      "\u001b[1m176/176\u001b[0m \u001b[32m━━━━━━━━━━━━━━━━━━━━\u001b[0m\u001b[37m\u001b[0m \u001b[1m78s\u001b[0m 441ms/step - accuracy: 0.9916 - loss: 0.0291 - val_accuracy: 0.9825 - val_loss: 0.0495\n"
     ]
    },
    {
     "data": {
      "text/plain": [
       "<keras.src.callbacks.history.History at 0x23191da7550>"
      ]
     },
     "execution_count": 56,
     "metadata": {},
     "output_type": "execute_result"
    }
   ],
   "source": [
    "\n",
    "from keras import layers, models\n",
    "\n",
    "# Load pretrained MobileNetV2\n",
    "base_model = keras.applications.MobileNetV2(weights='imagenet', include_top=False, input_shape=(250, 250, 3))\n",
    "\n",
    "# Freeze the base model (not trainable)\n",
    "base_model.trainable = False\n",
    "\n",
    "# Add custom layers on top for your specific task\n",
    "model = models.Sequential([\n",
    "    base_model,\n",
    "    layers.GlobalAveragePooling2D(),\n",
    "    layers.Dense(128, activation='relu'),\n",
    "    layers.Dense(1, activation='sigmoid')  # For binary classification: human (1) vs not human (0)\n",
    "])\n",
    "\n",
    "# Compile the model\n",
    "model.compile(optimizer='adam', loss='binary_crossentropy', metrics=['accuracy'])\n",
    "\n",
    "# Now, you can fine-tune it or train on your human vs not-human dataset\n",
    "model.fit(train_ds, epochs=5, validation_data=val_ds)\n"
   ]
  },
  {
   "cell_type": "code",
   "execution_count": 59,
   "id": "4c1e273d",
   "metadata": {},
   "outputs": [
    {
     "name": "stdout",
     "output_type": "stream",
     "text": [
      "Found 2723 files belonging to 2 classes.\n"
     ]
    },
    {
     "data": {
      "text/plain": [
       "<_PrefetchDataset element_spec=(TensorSpec(shape=(None, 250, 250, 3), dtype=tf.float32, name=None), TensorSpec(shape=(None,), dtype=tf.int32, name=None))>"
      ]
     },
     "execution_count": 59,
     "metadata": {},
     "output_type": "execute_result"
    }
   ],
   "source": [
    "\n",
    "test_training_ds = image_dataset_from_directory(\n",
    "  \"../data/human-and-non-human/test_set/test_set\",\n",
    "  seed=123,\n",
    "  image_size=(250,250),\n",
    "  batch_size=32,\n",
    "  labels=\"inferred\",\n",
    "\n",
    ")\n",
    "test_training_ds"
   ]
  },
  {
   "cell_type": "code",
   "execution_count": 60,
   "id": "99bb8ec3",
   "metadata": {},
   "outputs": [
    {
     "name": "stdout",
     "output_type": "stream",
     "text": [
      "\u001b[1m86/86\u001b[0m \u001b[32m━━━━━━━━━━━━━━━━━━━━\u001b[0m\u001b[37m\u001b[0m \u001b[1m27s\u001b[0m 308ms/step - accuracy: 0.9737 - loss: 0.0705\n"
     ]
    },
    {
     "data": {
      "text/plain": [
       "[0.06365882605314255, 0.977230966091156]"
      ]
     },
     "execution_count": 60,
     "metadata": {},
     "output_type": "execute_result"
    }
   ],
   "source": [
    "model.evaluate(test_training_ds)"
   ]
  },
  {
   "cell_type": "code",
   "execution_count": 61,
   "id": "d49d2f68",
   "metadata": {},
   "outputs": [
    {
     "data": {
      "text/plain": [
       "['humans', 'non-humans']"
      ]
     },
     "execution_count": 61,
     "metadata": {},
     "output_type": "execute_result"
    }
   ],
   "source": [
    "train_ds.class_names"
   ]
  },
  {
   "cell_type": "code",
   "execution_count": 71,
   "id": "dc2c3bae",
   "metadata": {},
   "outputs": [
    {
     "name": "stdout",
     "output_type": "stream",
     "text": [
      "\u001b[1m1/1\u001b[0m \u001b[32m━━━━━━━━━━━━━━━━━━━━\u001b[0m\u001b[37m\u001b[0m \u001b[1m0s\u001b[0m 27ms/step\n",
      "human\n"
     ]
    }
   ],
   "source": [
    "import cv2 as cv\n",
    "import numpy as np\n",
    "\n",
    "# Load grayscale image\n",
    "image = cv.imread(\"../data/human-and-non-human/sarbesh.jpg\")\n",
    "\n",
    "# Resize and normalize\n",
    "resized_image = cv.resize(image, (250, 250))\n",
    "resized_image = np.array(resized_image)\n",
    "\n",
    "resized_image = np.expand_dims(resized_image , axis=0)\n",
    "\n",
    "# Now this will work\n",
    "prediction = model.predict(resized_image)\n",
    "if prediction>0.5:\n",
    "    print(\"human\")\n"
   ]
  },
  {
   "cell_type": "code",
   "execution_count": 68,
   "id": "cbd503ea",
   "metadata": {},
   "outputs": [
    {
     "name": "stdout",
     "output_type": "stream",
     "text": [
      "\u001b[1m1/1\u001b[0m \u001b[32m━━━━━━━━━━━━━━━━━━━━\u001b[0m\u001b[37m\u001b[0m \u001b[1m0s\u001b[0m 25ms/step\n"
     ]
    },
    {
     "data": {
      "text/plain": [
       "array([[0.97927094]], dtype=float32)"
      ]
     },
     "execution_count": 68,
     "metadata": {},
     "output_type": "execute_result"
    }
   ],
   "source": [
    "model.predict(resized_image)"
   ]
  },
  {
   "cell_type": "code",
   "execution_count": 73,
   "id": "e0e6943b",
   "metadata": {},
   "outputs": [
    {
     "data": {
      "text/plain": [
       "['human_recog_model.joblib']"
      ]
     },
     "execution_count": 73,
     "metadata": {},
     "output_type": "execute_result"
    }
   ],
   "source": [
    "import joblib\n",
    "joblib.dump(model,\"human_recog_model.joblib\")"
   ]
  },
  {
   "cell_type": "code",
   "execution_count": 11,
   "id": "657fdacb",
   "metadata": {},
   "outputs": [
    {
     "name": "stdout",
     "output_type": "stream",
     "text": [
      "Original Data:\n",
      "          Hospital Name Blood Group       Urgency  Units Needed\n",
      "0         Care Hospital          B+        URGENT             3\n",
      "1  Global Health Centre          B+  Regular Need             7\n",
      "2  Healing Touch Clinic          A-        URGENT            10\n",
      "3         Care Hospital          B-        URGENT            10\n",
      "4     Medilane Hospital         AB-        URGENT             5\n",
      "\n",
      "Preprocessed Data (Encoded):\n",
      "   Hospital Name Encoded  Blood Group Encoded  Urgency Encoded  Units Needed\n",
      "0                      2                    4                1             3\n",
      "1                      4                    4                0             7\n",
      "2                      6                    1                1            10\n",
      "3                      2                    5                1            10\n",
      "4                      8                    3                1             5\n",
      "  Blood Group       Urgency  Units Needed  Shortage\n",
      "0          B+        URGENT             3         0\n",
      "1          B+  Regular Need             7         0\n",
      "2          A-        URGENT            10         1\n",
      "3          B-        URGENT            10         1\n",
      "4         AB-        URGENT             5         0\n"
     ]
    },
    {
     "data": {
      "text/html": [
       "<div>\n",
       "<style scoped>\n",
       "    .dataframe tbody tr th:only-of-type {\n",
       "        vertical-align: middle;\n",
       "    }\n",
       "\n",
       "    .dataframe tbody tr th {\n",
       "        vertical-align: top;\n",
       "    }\n",
       "\n",
       "    .dataframe thead th {\n",
       "        text-align: right;\n",
       "    }\n",
       "</style>\n",
       "<table border=\"1\" class=\"dataframe\">\n",
       "  <thead>\n",
       "    <tr style=\"text-align: right;\">\n",
       "      <th></th>\n",
       "      <th>Hospital Name</th>\n",
       "      <th>Blood Group</th>\n",
       "      <th>Urgency</th>\n",
       "      <th>Units Needed</th>\n",
       "      <th>Hospital Name Encoded</th>\n",
       "      <th>Blood Group Encoded</th>\n",
       "      <th>Urgency Encoded</th>\n",
       "      <th>Shortage</th>\n",
       "    </tr>\n",
       "  </thead>\n",
       "  <tbody>\n",
       "    <tr>\n",
       "      <th>0</th>\n",
       "      <td>Care Hospital</td>\n",
       "      <td>B+</td>\n",
       "      <td>URGENT</td>\n",
       "      <td>3</td>\n",
       "      <td>2</td>\n",
       "      <td>4</td>\n",
       "      <td>1</td>\n",
       "      <td>0</td>\n",
       "    </tr>\n",
       "    <tr>\n",
       "      <th>1</th>\n",
       "      <td>Global Health Centre</td>\n",
       "      <td>B+</td>\n",
       "      <td>Regular Need</td>\n",
       "      <td>7</td>\n",
       "      <td>4</td>\n",
       "      <td>4</td>\n",
       "      <td>0</td>\n",
       "      <td>0</td>\n",
       "    </tr>\n",
       "    <tr>\n",
       "      <th>2</th>\n",
       "      <td>Healing Touch Clinic</td>\n",
       "      <td>A-</td>\n",
       "      <td>URGENT</td>\n",
       "      <td>10</td>\n",
       "      <td>6</td>\n",
       "      <td>1</td>\n",
       "      <td>1</td>\n",
       "      <td>1</td>\n",
       "    </tr>\n",
       "    <tr>\n",
       "      <th>3</th>\n",
       "      <td>Care Hospital</td>\n",
       "      <td>B-</td>\n",
       "      <td>URGENT</td>\n",
       "      <td>10</td>\n",
       "      <td>2</td>\n",
       "      <td>5</td>\n",
       "      <td>1</td>\n",
       "      <td>1</td>\n",
       "    </tr>\n",
       "    <tr>\n",
       "      <th>4</th>\n",
       "      <td>Medilane Hospital</td>\n",
       "      <td>AB-</td>\n",
       "      <td>URGENT</td>\n",
       "      <td>5</td>\n",
       "      <td>8</td>\n",
       "      <td>3</td>\n",
       "      <td>1</td>\n",
       "      <td>0</td>\n",
       "    </tr>\n",
       "    <tr>\n",
       "      <th>...</th>\n",
       "      <td>...</td>\n",
       "      <td>...</td>\n",
       "      <td>...</td>\n",
       "      <td>...</td>\n",
       "      <td>...</td>\n",
       "      <td>...</td>\n",
       "      <td>...</td>\n",
       "      <td>...</td>\n",
       "    </tr>\n",
       "    <tr>\n",
       "      <th>195</th>\n",
       "      <td>LifeCare Hospital</td>\n",
       "      <td>A+</td>\n",
       "      <td>Regular Need</td>\n",
       "      <td>1</td>\n",
       "      <td>7</td>\n",
       "      <td>0</td>\n",
       "      <td>0</td>\n",
       "      <td>0</td>\n",
       "    </tr>\n",
       "    <tr>\n",
       "      <th>196</th>\n",
       "      <td>LifeCare Hospital</td>\n",
       "      <td>A+</td>\n",
       "      <td>URGENT</td>\n",
       "      <td>4</td>\n",
       "      <td>7</td>\n",
       "      <td>0</td>\n",
       "      <td>1</td>\n",
       "      <td>0</td>\n",
       "    </tr>\n",
       "    <tr>\n",
       "      <th>197</th>\n",
       "      <td>Green Cross Hospital</td>\n",
       "      <td>AB+</td>\n",
       "      <td>Regular Need</td>\n",
       "      <td>4</td>\n",
       "      <td>5</td>\n",
       "      <td>2</td>\n",
       "      <td>0</td>\n",
       "      <td>0</td>\n",
       "    </tr>\n",
       "    <tr>\n",
       "      <th>198</th>\n",
       "      <td>Care Hospital</td>\n",
       "      <td>A-</td>\n",
       "      <td>URGENT</td>\n",
       "      <td>3</td>\n",
       "      <td>2</td>\n",
       "      <td>1</td>\n",
       "      <td>1</td>\n",
       "      <td>0</td>\n",
       "    </tr>\n",
       "    <tr>\n",
       "      <th>199</th>\n",
       "      <td>Green Cross Hospital</td>\n",
       "      <td>O-</td>\n",
       "      <td>Regular Need</td>\n",
       "      <td>6</td>\n",
       "      <td>5</td>\n",
       "      <td>7</td>\n",
       "      <td>0</td>\n",
       "      <td>0</td>\n",
       "    </tr>\n",
       "  </tbody>\n",
       "</table>\n",
       "<p>200 rows × 8 columns</p>\n",
       "</div>"
      ],
      "text/plain": [
       "            Hospital Name Blood Group       Urgency  Units Needed  \\\n",
       "0           Care Hospital          B+        URGENT             3   \n",
       "1    Global Health Centre          B+  Regular Need             7   \n",
       "2    Healing Touch Clinic          A-        URGENT            10   \n",
       "3           Care Hospital          B-        URGENT            10   \n",
       "4       Medilane Hospital         AB-        URGENT             5   \n",
       "..                    ...         ...           ...           ...   \n",
       "195     LifeCare Hospital          A+  Regular Need             1   \n",
       "196     LifeCare Hospital          A+        URGENT             4   \n",
       "197  Green Cross Hospital         AB+  Regular Need             4   \n",
       "198         Care Hospital          A-        URGENT             3   \n",
       "199  Green Cross Hospital          O-  Regular Need             6   \n",
       "\n",
       "     Hospital Name Encoded  Blood Group Encoded  Urgency Encoded  Shortage  \n",
       "0                        2                    4                1         0  \n",
       "1                        4                    4                0         0  \n",
       "2                        6                    1                1         1  \n",
       "3                        2                    5                1         1  \n",
       "4                        8                    3                1         0  \n",
       "..                     ...                  ...              ...       ...  \n",
       "195                      7                    0                0         0  \n",
       "196                      7                    0                1         0  \n",
       "197                      5                    2                0         0  \n",
       "198                      2                    1                1         0  \n",
       "199                      5                    7                0         0  \n",
       "\n",
       "[200 rows x 8 columns]"
      ]
     },
     "execution_count": 11,
     "metadata": {},
     "output_type": "execute_result"
    }
   ],
   "source": [
    "import pandas as pd\n",
    "import random\n",
    "\n",
    "# Sample hospital names\n",
    "hospital_names = [\n",
    "    \"Amri Hospital\", \"City Hospital\", \"Medilane Hospital\",\n",
    "    \"Care Hospital\", \"Sunrise Hospital\", \"LifeCare Hospital\",\n",
    "    \"Apollo Hospital\", \"Healing Touch Clinic\", \"Global Health Centre\",\n",
    "    \"Green Cross Hospital\"\n",
    "]\n",
    "\n",
    "# Blood groups\n",
    "blood_groups = [\"A+\", \"A-\", \"B+\", \"B-\", \"O+\", \"O-\", \"AB+\", \"AB-\"]\n",
    "\n",
    "# Urgency levels\n",
    "urgency_levels = [\"Regular Need\", \"URGENT\"]\n",
    "\n",
    "# Generate synthetic data\n",
    "data = []\n",
    "for _ in range(200):\n",
    "    hospital = random.choice(hospital_names)\n",
    "    blood_group = random.choice(blood_groups)\n",
    "    urgency = random.choice(urgency_levels)\n",
    "    units_needed = random.randint(1, 10)\n",
    "    \n",
    "    data.append([hospital, blood_group, urgency, units_needed])\n",
    "\n",
    "# Create DataFrame\n",
    "df = pd.DataFrame(data, columns=[\"Hospital Name\", \"Blood Group\", \"Urgency\", \"Units Needed\"])\n",
    "\n",
    "print(\"Original Data:\")\n",
    "print(df.head())\n",
    "\n",
    "# Encoding\n",
    "# 1. Label Encoding the Hospital Name\n",
    "df[\"Hospital Name Encoded\"] = df[\"Hospital Name\"].astype('category').cat.codes\n",
    "\n",
    "# 2. Label Encoding the Blood Group\n",
    "df[\"Blood Group Encoded\"] = df[\"Blood Group\"].astype('category').cat.codes\n",
    "\n",
    "# 3. Encoding Urgency (0 for Regular, 1 for URGENT)\n",
    "df[\"Urgency Encoded\"] = df[\"Urgency\"].map({\"Regular Need\": 0, \"URGENT\": 1})\n",
    "\n",
    "# Now the preprocessed dataframe\n",
    "preprocessed_df = df[[\n",
    "    \"Hospital Name Encoded\", \"Blood Group Encoded\", \"Urgency Encoded\", \"Units Needed\"\n",
    "]]\n",
    "\n",
    "print(\"\\nPreprocessed Data (Encoded):\")\n",
    "print(preprocessed_df.head())\n",
    "\n",
    "# Create a 'Shortage' label based on urgency and units needed\n",
    "df['Shortage'] = df.apply(\n",
    "    lambda row: 1 if (row['Urgency'] == \"URGENT\" and row['Units Needed'] > 5) else 0, \n",
    "    axis=1\n",
    ")\n",
    "\n",
    "print(df[['Blood Group', 'Urgency', 'Units Needed', 'Shortage']].head())\n",
    "df\n"
   ]
  },
  {
   "cell_type": "code",
   "execution_count": 29,
   "id": "8bf6d5de",
   "metadata": {},
   "outputs": [
    {
     "name": "stdout",
     "output_type": "stream",
     "text": [
      "Training accuracy: 1.0\n",
      "Testing accuracy: 1.0\n"
     ]
    }
   ],
   "source": [
    "from sklearn.ensemble import RandomForestClassifier\n",
    "from sklearn.model_selection import train_test_split\n",
    "import numpy as np\n",
    "X = np.array(df[['Urgency Encoded' , 'Units Needed']])\n",
    "y = np.array(df['Shortage'])\n",
    "\n",
    "X_train, X_test, y_train, y_test = train_test_split(X, y, test_size=0.2, random_state=42)\n",
    "\n",
    "\n",
    "shortage_predict_model = RandomForestClassifier()\n",
    "shortage_predict_model.fit(X_train, y_train)\n",
    "\n",
    "\n",
    "print(\"Training accuracy:\", shortage_predict_model.score(X_train, y_train))\n",
    "print(\"Testing accuracy:\", shortage_predict_model.score(X_test, y_test))\n"
   ]
  },
  {
   "cell_type": "code",
   "execution_count": 31,
   "id": "8a5e3af1",
   "metadata": {},
   "outputs": [
    {
     "data": {
      "text/plain": [
       "['shortage_predict_model.joblib']"
      ]
     },
     "execution_count": 31,
     "metadata": {},
     "output_type": "execute_result"
    }
   ],
   "source": [
    "import joblib\n",
    "joblib.dump(shortage_predict_model , \"shortage_predict_model.joblib\")"
   ]
  },
  {
   "cell_type": "code",
   "execution_count": null,
   "id": "733734f1",
   "metadata": {},
   "outputs": [],
   "source": []
  }
 ],
 "metadata": {
  "kernelspec": {
   "display_name": "Python tfenv",
   "language": "python",
   "name": "tfenv"
  },
  "language_info": {
   "codemirror_mode": {
    "name": "ipython",
    "version": 3
   },
   "file_extension": ".py",
   "mimetype": "text/x-python",
   "name": "python",
   "nbconvert_exporter": "python",
   "pygments_lexer": "ipython3",
   "version": "3.10.16"
  }
 },
 "nbformat": 4,
 "nbformat_minor": 5
}
